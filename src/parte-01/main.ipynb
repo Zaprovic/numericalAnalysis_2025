{
 "cells": [
  {
   "cell_type": "markdown",
   "id": "76b10939",
   "metadata": {},
   "source": [
    "# **Cinematica inversa de un brazo robotico**\n",
    "\n",
    "La posicion del extremo del brazo en el plano esta dada por\n",
    "\n",
    "$$\n",
    "x(\\theta_1,\\theta_2) = L_1 \\cos(\\theta_1) + L_2 \\cos(\\theta_1 + \\theta_2) \\\\\n",
    "y(\\theta_1,\\theta_2) = L_1 \\sin(\\theta_1) + L_2 \\sin(\\theta_1 + \\theta_2)\n",
    "$$\n",
    "\n",
    "\n",
    "<center>\n",
    "\n",
    "![alt text](./images/brazo-robotico.png)\n",
    "</center>\n",
    "\n",
    "Para alcanzar un punto deseado $(x_d, y_d)$ se plantea el siguiente sistema\n",
    "\n",
    "$$\n",
    "F_1(\\theta_1,\\theta_2) = x(\\theta_1,\\theta_2) - x_d = 0 \\\\\n",
    "F_2(\\theta_1,\\theta_2) = y(\\theta_1,\\theta_2) - y_d = 0\n",
    "$$"
   ]
  }
 ],
 "metadata": {
  "language_info": {
   "name": "python"
  }
 },
 "nbformat": 4,
 "nbformat_minor": 5
}
