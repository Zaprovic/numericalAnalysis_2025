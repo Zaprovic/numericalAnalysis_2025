{
 "cells": [
  {
   "cell_type": "markdown",
   "id": "76b10939",
   "metadata": {},
   "source": [
    "# **Cinematica inversa de un brazo robotico**\n",
    "\n",
    "La posicion del extremo del brazo en el plano esta dada por\n",
    "\n",
    "$$\n",
    "\\begin{align*}\n",
    "x(\\theta_1,\\theta_2) = L_1 \\cos(\\theta_1) + L_2 \\cos(\\theta_1 + \\theta_2) \\\\\n",
    "y(\\theta_1,\\theta_2) = L_1 \\sin(\\theta_1) + L_2 \\sin(\\theta_1 + \\theta_2)\n",
    "\\end{align*}\n",
    "\n",
    "$$\n",
    "\n",
    "\n",
    "<center>\n",
    "\n",
    "![alt text](./images/brazo-robotico.png)\n",
    "</center>\n",
    "\n",
    "Para alcanzar un punto deseado $(x_d, y_d)$ se plantea el siguiente sistema\n",
    "\n",
    "$$\n",
    "\\begin{align*}\n",
    "F_1(\\theta_1,\\theta_2) = x(\\theta_1,\\theta_2) - x_d = 0 \\\\\n",
    "F_2(\\theta_1,\\theta_2) = y(\\theta_1,\\theta_2) - y_d = 0\n",
    "\\end{align*}\n",
    "$$"
   ]
  },
  {
   "cell_type": "markdown",
   "id": "1cb36131",
   "metadata": {},
   "source": [
    "## **Implementacion algoritmica**"
   ]
  },
  {
   "cell_type": "code",
   "execution_count": null,
   "id": "73e264fc",
   "metadata": {},
   "outputs": [],
   "source": [
    "from typing import Callable, List, Tuple, TypedDict, Union\n",
    "\n",
    "import autograd.numpy as anp\n",
    "import numpy as np\n",
    "import numpy.typing as npt\n",
    "from autograd import jacobian\n",
    "\n",
    "np.set_printoptions(suppress=True)\n",
    "\n",
    "\n",
    "class NewtonResult(TypedDict):\n",
    "    solution: npt.NDArray[np.floating]\n",
    "    message: str\n",
    "\n",
    "\n",
    "def newton_vector(\n",
    "    F: Callable[[npt.NDArray[np.floating]], npt.NDArray[np.floating]],\n",
    "    x0: Union[npt.ArrayLike, List[float], Tuple[float]],\n",
    "    delta: float,\n",
    "    m: int,\n",
    ") -> NewtonResult:\n",
    "    J = jacobian(F)\n",
    "    x = np.asarray(x0, dtype=float)\n",
    "\n",
    "    for i in range(m):\n",
    "        x = x - np.linalg.inv(J(x)) @ F(x)\n",
    "        if np.linalg.norm(F(x)) < delta:\n",
    "            return {\n",
    "                \"solution\": x,\n",
    "                \"message\": f\"Convergence satisfied after {i+1} iterations\",\n",
    "            }\n",
    "\n",
    "    return {\n",
    "        \"solution\": x,\n",
    "        \"message\": \"Maximum number of iterations exceeded\",\n",
    "    }"
   ]
  }
 ],
 "metadata": {
  "kernelspec": {
   "display_name": ".venv",
   "language": "python",
   "name": "python3"
  },
  "language_info": {
   "name": "python",
   "version": "3.13.5"
  }
 },
 "nbformat": 4,
 "nbformat_minor": 5
}
