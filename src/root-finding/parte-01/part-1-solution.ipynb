{
 "cells": [
  {
   "cell_type": "markdown",
   "source": [
    "# Part 1: Solution of Non-Linear Systems"
   ],
   "metadata": {
    "collapsed": false
   },
   "id": "efd72b2d729f9ae0"
  },
  {
   "cell_type": "markdown",
   "source": [
    "Made by:\n",
    "- Haiber Alfredo Alpala\n",
    "- Juan Pablo Gomez Gomez\n",
    "- Juan Diego Ospina Ocampo\n",
    "- Jose Fernando Portilla Roser\n",
    "- David Delgado Ortiz\n",
    "- Jacobo Zapata Rojas\n",
    "- Maria Paula Ardila Otero\n",
    "- Mariana Valencia \n",
    "- Samuel Mira Álvarez"
   ],
   "metadata": {
    "collapsed": false
   },
   "id": "ab32d610d76d884e"
  },
  {
   "cell_type": "markdown",
   "source": [
    "## Inverse Kinematics of a 2-Link Planar Robot Arm"
   ],
   "metadata": {
    "collapsed": false
   },
   "id": "fa4f6048ca2ecae5"
  },
  {
   "cell_type": "markdown",
   "source": [
    "Modern robotics requires autonomous systems to perform tasks with precision. One of the fundamental problems is inverse kinematics, that is, determining the angles that the joints of a robotic arm must adopt to reach a desired position in the plane (or space). This problem gives rise to systems of nonlinear equations, whose solution requires appropriate numerical methods. \n",
    "\n",
    "### **Description of the problem**\n",
    "\n",
    "Consider a planar robotic arm composed of two links of lengths $L_{1}$ and $L_{2}$, articulated by angles $\\theta_{1}$ (formed by the first link with the support base) and $\\theta_{2}$ (formed by the second link with respect to the first).\n",
    "\n",
    "The position of the end of the arm in the plane (in Cartesian coordinates) is given by:\n",
    "$$\n",
    "x(\\theta_{1}, \\theta_{2}) = L_{1} \\cos (\\theta_{1}) + L_{2} \\cos (\\theta_{1} + \\theta_{2}) \\\\\n",
    "y(\\theta_{1}, \\theta_{2}) = L_{1} \\sin (\\theta_{1}) + L_{2} \\sin (\\theta_{1} + \\theta_{2})\n",
    "$$\n",
    "\n",
    "To reach a desired point $(x_{d}, y_{d})$, the nonlinear system is considered:\n",
    "$$\n",
    "F_{1}(\\theta_{1}, \\theta_{2}) = x(\\theta_{1}, \\theta_{2}) - x_{d} = 0 \\\\\n",
    "F_{2}(\\theta_{1}, \\theta_{2}) = y(\\theta_{1}, \\theta_{2}) - y_{d} = 0\n",
    "$$\n",
    "\n"
   ],
   "metadata": {
    "collapsed": false
   },
   "id": "eb9bfb10b95b5725"
  },
  {
   "cell_type": "code",
   "outputs": [],
   "source": [
    "# Import dependencies here"
   ],
   "metadata": {
    "collapsed": false
   },
   "id": "d9ec788da79de800"
  },
  {
   "cell_type": "markdown",
   "source": [
    "### Part 1\n",
    "Implement Newton's Method to solve the resulting non-linear system. "
   ],
   "metadata": {
    "collapsed": false
   },
   "id": "9750c670038cc1e5"
  },
  {
   "cell_type": "markdown",
   "source": [
    "Here goes activity 1. "
   ],
   "metadata": {
    "collapsed": false
   },
   "id": "89439c23c05ff12d"
  },
  {
   "cell_type": "markdown",
   "source": [
    "### Part 2\n",
    "Choose realistic values for $L_{1}$, $L_{2}$ and at least three final positions $(x_{d}, y_{d})$ and evaluate the results of the method."
   ],
   "metadata": {
    "collapsed": false
   },
   "id": "abb0fb7f6fb5b1f5"
  },
  {
   "cell_type": "markdown",
   "source": [
    "Here goes activity 2."
   ],
   "metadata": {
    "collapsed": false
   },
   "id": "262af0e40cb0591f"
  },
  {
   "cell_type": "markdown",
   "source": [
    "### Part 3\n",
    "Analyze the sensibility of the initial conditions and discuss the cases in which the method converges and difficulties in implementation.  "
   ],
   "metadata": {
    "collapsed": false
   },
   "id": "ed3c9b7cc8187283"
  },
  {
   "cell_type": "markdown",
   "source": [
    "Here goes activity 3."
   ],
   "metadata": {
    "collapsed": false
   },
   "id": "b8b40a7188ed1aeb"
  },
  {
   "cell_type": "markdown",
   "source": [
    "### Part 4\n",
    "Visualize the final end positions and the intermediate trajectories of the arm. "
   ],
   "metadata": {
    "collapsed": false
   },
   "id": "f2c8779c1ecc0e31"
  },
  {
   "cell_type": "markdown",
   "source": [
    "Here goes activity 4. "
   ],
   "metadata": {
    "collapsed": false
   },
   "id": "1f4985b47d43412c"
  },
  {
   "cell_type": "markdown",
   "source": [
    "### Part 5\n",
    "Generalize the model to an arm with $n \\geq 3$ links. In this case, the system is composed of $n$ non-linear equations and the number of solutions can increase substantially. "
   ],
   "metadata": {
    "collapsed": false
   },
   "id": "805cf3560f4a114"
  },
  {
   "cell_type": "markdown",
   "source": [
    "Here goes activity 5. \n"
   ],
   "metadata": {
    "collapsed": false
   },
   "id": "1fdc39a88e6ec45f"
  }
 ],
 "metadata": {
  "kernelspec": {
   "display_name": "Python 3",
   "language": "python",
   "name": "python3"
  },
  "language_info": {
   "codemirror_mode": {
    "name": "ipython",
    "version": 2
   },
   "file_extension": ".py",
   "mimetype": "text/x-python",
   "name": "python",
   "nbconvert_exporter": "python",
   "pygments_lexer": "ipython2",
   "version": "2.7.6"
  }
 },
 "nbformat": 4,
 "nbformat_minor": 5
}
