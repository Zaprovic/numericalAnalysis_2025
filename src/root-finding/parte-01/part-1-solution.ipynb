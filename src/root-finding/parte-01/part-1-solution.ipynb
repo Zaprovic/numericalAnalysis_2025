{
 "cells": [
  {
   "cell_type": "markdown",
   "id": "efd72b2d729f9ae0",
   "metadata": {
    "collapsed": false
   },
   "source": [
    "# **Part 1: Solution of Non-Linear Systems**"
   ]
  },
  {
   "cell_type": "markdown",
   "id": "ab32d610d76d884e",
   "metadata": {
    "collapsed": false
   },
   "source": [
    "Made by:\n",
    "- Haiber Alfredo Alpala\n",
    "- Juan Pablo Gomez Gomez\n",
    "- Juan Diego Ospina Ocampo\n",
    "- Jose Fernando Portilla Roser\n",
    "- David Delgado Ortiz\n",
    "- Jacobo Zapata Rojas\n",
    "- Maria Paula Ardila Otero\n",
    "- Mariana Valencia \n",
    "- Samuel Mira Álvarez"
   ]
  },
  {
   "cell_type": "markdown",
   "id": "fa4f6048ca2ecae5",
   "metadata": {
    "collapsed": false
   },
   "source": [
    "## **Inverse Kinematics of a 2-Link Planar Robot Arm**"
   ]
  },
  {
   "cell_type": "markdown",
   "id": "eb9bfb10b95b5725",
   "metadata": {
    "collapsed": false
   },
   "source": [
    "Modern robotics requires autonomous systems to perform tasks with precision. One of the fundamental problems is inverse kinematics, that is, determining the angles that the joints of a robotic arm must adopt to reach a desired position in the plane (or space). This problem gives rise to systems of nonlinear equations, whose solution requires appropriate numerical methods. \n",
    "\n",
    "### *Description of the problem*\n",
    "\n",
    "Consider a planar robotic arm composed of two links of lengths $L_{1}$ and $L_{2}$, articulated by angles $\\theta_{1}$ (formed by the first link with the support base) and $\\theta_{2}$ (formed by the second link with respect to the first).\n",
    "\n",
    "The position of the end of the arm in the plane (in Cartesian coordinates) is given by:\n",
    "$$\n",
    "\\begin{align*}\n",
    "x(\\theta_{1}, \\theta_{2}) = L_{1} \\cos (\\theta_{1}) + L_{2} \\cos (\\theta_{1} + \\theta_{2}) \\\\\n",
    "y(\\theta_{1}, \\theta_{2}) = L_{1} \\sin (\\theta_{1}) + L_{2} \\sin (\\theta_{1} + \\theta_{2})\n",
    "\\end{align*}\n",
    "$$\n",
    "\n",
    "To reach a desired point $(x_{d}, y_{d})$, the nonlinear system is considered:\n",
    "$$\n",
    "\\begin{align*}\n",
    "F_{1}(\\theta_{1}, \\theta_{2}) = x(\\theta_{1}, \\theta_{2}) - x_{d} = 0 \\\\\n",
    "F_{2}(\\theta_{1}, \\theta_{2}) = y(\\theta_{1}, \\theta_{2}) - y_{d} = 0\n",
    "\\end{align*}\n",
    "$$\n",
    "\n"
   ]
  },
  {
   "cell_type": "code",
   "execution_count": 108,
   "id": "d9ec788da79de800",
   "metadata": {
    "collapsed": false,
    "ExecuteTime": {
     "end_time": "2025-09-14T03:32:16.657952Z",
     "start_time": "2025-09-14T03:32:16.655109Z"
    }
   },
   "outputs": [],
   "source": [
    "# Import dependencies here\n",
    "import numpy as np\n",
    "import matplotlib.pyplot as plt\n",
    "from scipy.optimize import fsolve"
   ]
  },
  {
   "cell_type": "markdown",
   "id": "9750c670038cc1e5",
   "metadata": {
    "collapsed": false
   },
   "source": [
    "### Part 1\n",
    "Implement Newton's Method to solve the resulting non-linear system. "
   ]
  },
  {
   "cell_type": "markdown",
   "id": "89439c23c05ff12d",
   "metadata": {
    "collapsed": false
   },
   "source": [
    "Here goes activity 1. "
   ]
  },
  {
   "cell_type": "markdown",
   "id": "abb0fb7f6fb5b1f5",
   "metadata": {
    "collapsed": false
   },
   "source": [
    "### Part 2\n",
    "Choose realistic values for $L_{1}$, $L_{2}$ and at least three final positions $(x_{d}, y_{d})$ and evaluate the results of the method."
   ]
  },
  {
   "cell_type": "markdown",
   "id": "262af0e40cb0591f",
   "metadata": {
    "collapsed": false
   },
   "source": [
    "Here goes activity 2."
   ]
  },
  {
   "cell_type": "markdown",
   "id": "ed3c9b7cc8187283",
   "metadata": {
    "collapsed": false
   },
   "source": [
    "### Part 3\n",
    "Analyze the sensibility of the initial conditions and discuss the cases in which the method converges and difficulties in implementation.  "
   ]
  },
  {
   "cell_type": "markdown",
   "id": "b8b40a7188ed1aeb",
   "metadata": {
    "collapsed": false
   },
   "source": [
    "Here goes activity 3."
   ]
  },
  {
   "cell_type": "markdown",
   "id": "f2c8779c1ecc0e31",
   "metadata": {
    "collapsed": false
   },
   "source": [
    "### Part 4\n",
    "Visualize the final end positions and the intermediate trajectories of the arm. "
   ]
  },
  {
   "cell_type": "markdown",
   "id": "1f4985b47d43412c",
   "metadata": {
    "collapsed": false
   },
   "source": [
    "Here goes activity 4. "
   ]
  },
  {
   "cell_type": "markdown",
   "id": "805cf3560f4a114",
   "metadata": {
    "collapsed": false
   },
   "source": [
    "### Part 5\n",
    "Generalize the model to an arm with $n \\geq 3$ links. In this case, the system is composed of $n$ non-linear equations and the number of solutions can increase substantially. "
   ]
  },
  {
   "cell_type": "markdown",
   "source": [
    "#### Intuition"
   ],
   "metadata": {
    "collapsed": false
   },
   "id": "6e01d066a5aae916"
  },
  {
   "cell_type": "markdown",
   "source": [
    "\n",
    "After the development done above, it is now tasked to generalize the model for a robotic arm with more than $2$ links. \n",
    "\n",
    "Although daunting at first glance, the problem is rather straightforward. The following graphic serves as an illustration to further clear doubts. \n"
   ],
   "metadata": {
    "collapsed": false
   },
   "id": "6697df38d05df382"
  },
  {
   "cell_type": "code",
   "outputs": [],
   "source": [
    "'''\n",
    "The following class is miscellaneous code for the graphic. It can be found at:\n",
    "https://matplotlib.org/stable/gallery/text_labels_and_annotations/angle_annotation.html#sphx-glr-gallery-text-labels-and-annotations-angle-annotation-py\n",
    "'''\n",
    "from matplotlib.patches import Arc\n",
    "from matplotlib.transforms import Bbox, IdentityTransform, TransformedBbox\n",
    "import matplotlib.pyplot as plt\n",
    "plt.style.use(\"ggplot\")\n",
    "\n",
    "\n",
    "class AngleAnnotation(Arc):\n",
    "    \"\"\"\n",
    "    Draws an arc between two vectors which appears circular in display space.\n",
    "    \"\"\"\n",
    "    def __init__(self, xy, p1, p2, size=75, unit=\"points\", ax=None,\n",
    "                 text=\"\", textposition=\"inside\", text_kw=None, **kwargs):\n",
    "        \"\"\"\n",
    "        Parameters\n",
    "        ----------\n",
    "        xy, p1, p2 : tuple or array of two floats\n",
    "            Center position and two points. Angle annotation is drawn between\n",
    "            the two vectors connecting *p1* and *p2* with *xy*, respectively.\n",
    "            Units are data coordinates.\n",
    "\n",
    "        size : float\n",
    "            Diameter of the angle annotation in units specified by *unit*.\n",
    "\n",
    "        unit : str\n",
    "            One of the following strings to specify the unit of *size*:\n",
    "\n",
    "            * \"pixels\": pixels\n",
    "            * \"points\": points, use points instead of pixels to not have a\n",
    "              dependence on the DPI\n",
    "            * \"axes width\", \"axes height\": relative units of Axes width, height\n",
    "            * \"axes min\", \"axes max\": minimum or maximum of relative Axes\n",
    "              width, height\n",
    "\n",
    "        ax : `matplotlib.axes.Axes`\n",
    "            The Axes to add the angle annotation to.\n",
    "\n",
    "        text : str\n",
    "            The text to mark the angle with.\n",
    "\n",
    "        textposition : {\"inside\", \"outside\", \"edge\"}\n",
    "            Whether to show the text in- or outside the arc. \"edge\" can be used\n",
    "            for custom positions anchored at the arc's edge.\n",
    "\n",
    "        text_kw : dict\n",
    "            Dictionary of arguments passed to the Annotation.\n",
    "\n",
    "        **kwargs\n",
    "            Further parameters are passed to `matplotlib.patches.Arc`. Use this\n",
    "            to specify, color, linewidth etc. of the arc.\n",
    "\n",
    "        \"\"\"\n",
    "        self.ax = ax or plt.gca()\n",
    "        self._xydata = xy  # in data coordinates\n",
    "        self.vec1 = p1\n",
    "        self.vec2 = p2\n",
    "        self.size = size\n",
    "        self.unit = unit\n",
    "        self.textposition = textposition\n",
    "\n",
    "        super().__init__(self._xydata, size, size, angle=0.0,\n",
    "                         theta1=self.theta1, theta2=self.theta2, **kwargs)\n",
    "\n",
    "        self.set_transform(IdentityTransform())\n",
    "        self.ax.add_patch(self)\n",
    "\n",
    "        self.kw = dict(ha=\"center\", va=\"center\",\n",
    "                       xycoords=IdentityTransform(),\n",
    "                       xytext=(0, 0), textcoords=\"offset points\",\n",
    "                       annotation_clip=True)\n",
    "        self.kw.update(text_kw or {})\n",
    "        self.text = ax.annotate(text, xy=self._center, **self.kw)\n",
    "\n",
    "    def get_size(self):\n",
    "        factor = 1.\n",
    "        if self.unit == \"points\":\n",
    "            factor = self.ax.figure.dpi / 72.\n",
    "        elif self.unit[:4] == \"axes\":\n",
    "            b = TransformedBbox(Bbox.unit(), self.ax.transAxes)\n",
    "            dic = {\"max\": max(b.width, b.height),\n",
    "                   \"min\": min(b.width, b.height),\n",
    "                   \"width\": b.width, \"height\": b.height}\n",
    "            factor = dic[self.unit[5:]]\n",
    "        return self.size * factor\n",
    "\n",
    "    def set_size(self, size):\n",
    "        self.size = size\n",
    "\n",
    "    def get_center_in_pixels(self):\n",
    "        \"\"\"return center in pixels\"\"\"\n",
    "        return self.ax.transData.transform(self._xydata)\n",
    "\n",
    "    def set_center(self, xy):\n",
    "        \"\"\"set center in data coordinates\"\"\"\n",
    "        self._xydata = xy\n",
    "\n",
    "    def get_theta(self, vec):\n",
    "        vec_in_pixels = self.ax.transData.transform(vec) - self._center\n",
    "        return np.rad2deg(np.arctan2(vec_in_pixels[1], vec_in_pixels[0]))\n",
    "\n",
    "    def get_theta1(self):\n",
    "        return self.get_theta(self.vec1)\n",
    "\n",
    "    def get_theta2(self):\n",
    "        return self.get_theta(self.vec2)\n",
    "\n",
    "    def set_theta(self, angle):\n",
    "        pass\n",
    "\n",
    "    # Redefine attributes of the Arc to always give values in pixel space\n",
    "    _center = property(get_center_in_pixels, set_center)\n",
    "    theta1 = property(get_theta1, set_theta)\n",
    "    theta2 = property(get_theta2, set_theta)\n",
    "    width = property(get_size, set_size)\n",
    "    height = property(get_size, set_size)\n",
    "\n",
    "    # The following two methods are needed to update the text position.\n",
    "    def draw(self, renderer):\n",
    "        self.update_text()\n",
    "        super().draw(renderer)\n",
    "\n",
    "    def update_text(self):\n",
    "        c = self._center\n",
    "        s = self.get_size()\n",
    "        angle_span = (self.theta2 - self.theta1) % 360\n",
    "        angle = np.deg2rad(self.theta1 + angle_span / 2)\n",
    "        r = s / 2\n",
    "        if self.textposition == \"inside\":\n",
    "            r = s / np.interp(angle_span, [60, 90, 135, 180],\n",
    "                                          [3.3, 3.5, 3.8, 4])\n",
    "        self.text.xy = c + r * np.array([np.cos(angle), np.sin(angle)])\n",
    "        if self.textposition == \"outside\":\n",
    "            def R90(a, r, w, h):\n",
    "                if a < np.arctan(h/2/(r+w/2)):\n",
    "                    return np.sqrt((r+w/2)**2 + (np.tan(a)*(r+w/2))**2)\n",
    "                else:\n",
    "                    c = np.sqrt((w/2)**2+(h/2)**2)\n",
    "                    T = np.arcsin(c * np.cos(np.pi/2 - a + np.arcsin(h/2/c))/r)\n",
    "                    xy = r * np.array([np.cos(a + T), np.sin(a + T)])\n",
    "                    xy += np.array([w/2, h/2])\n",
    "                    return np.sqrt(np.sum(xy**2))\n",
    "\n",
    "            def R(a, r, w, h):\n",
    "                aa = (a % (np.pi/4))*((a % (np.pi/2)) <= np.pi/4) + \\\n",
    "                     (np.pi/4 - (a % (np.pi/4)))*((a % (np.pi/2)) >= np.pi/4)\n",
    "                return R90(aa, r, *[w, h][::int(np.sign(np.cos(2*a)))])\n",
    "\n",
    "            bbox = self.text.get_window_extent()\n",
    "            X = R(angle, r, bbox.width, bbox.height)\n",
    "            trans = self.ax.figure.dpi_scale_trans.inverted()\n",
    "            offs = trans.transform(((X-s/2), 0))[0] * 72\n",
    "            self.text.set_position([offs*np.cos(angle), offs*np.sin(angle)])\n",
    "            \n",
    "'''\n",
    "Now, the graphic may be constructed. \n",
    "'''\n",
    "# Create the figure\n",
    "fig, ax = plt.subplots(figsize=(5, 10))\n",
    "fig.canvas.draw() \n",
    "\n",
    "# Set title and labels\n",
    "ax.set_title(\"Three-Link Robotic Arm \\n Visualization\", \n",
    "             fontsize=16, fontweight='bold', pad=20)\n",
    "ax.set_xlabel(\"X Position (units)\", fontsize=12, fontweight='bold')\n",
    "ax.set_ylabel(\"Y Position (units)\", fontsize=12, fontweight='bold')\n",
    "\n",
    "# Add grid for better readability\n",
    "ax.grid(True, alpha=0.3, linestyle='-', linewidth=0.5)\n",
    "ax.set_axisbelow(True)\n",
    "\n",
    "# Define coordinates and link segments\n",
    "center0 = (0,0)\n",
    "center1 = (5, 6)\n",
    "center2 = (7,12)\n",
    "p1 = [(0, 0), (5, 6)]\n",
    "p2 = [(5,6), (7, 12)]\n",
    "p3 = [(7,12), (6, 15)]\n",
    "\n",
    "# \n",
    "line1, = ax.plot(*zip(*p1), color=\"#FF6B6B\", linewidth=6, label=\"Link 1 (L₁)\", \n",
    "                 marker='o', markersize=8, markeredgecolor='darkred', markeredgewidth=2)\n",
    "line2, = ax.plot(*zip(*p2), color=\"#4ECDC4\", linewidth=6, label=\"Link 2 (L₂)\", \n",
    "                 marker='o', markersize=8, markeredgecolor='darkcyan', markeredgewidth=2)\n",
    "line3, = ax.plot(*zip(*p3), color=\"#45B7D1\", linewidth=6, label=\"Link 3 (L₃)\", \n",
    "                 marker='o', markersize=8, markeredgecolor='darkblue', markeredgewidth=2)\n",
    "\n",
    "point0, = ax.plot(*center0, marker=\"o\", markersize=12, color=\"#2C3E50\", \n",
    "                  markeredgecolor='white', markeredgewidth=2, zorder=5)\n",
    "point1, = ax.plot(*center1, marker=\"o\", markersize=10, color=\"#E74C3C\", \n",
    "                  markeredgecolor='white', markeredgewidth=2, zorder=5)\n",
    "point2, = ax.plot(*center2, marker=\"o\", markersize=10, color=\"#9B59B6\", \n",
    "                  markeredgecolor='white', markeredgewidth=2, zorder=5)\n",
    "\n",
    "ax.text(2.5, 3.5, r\"$L_{1}$\", fontsize=14, fontweight='bold', \n",
    "        bbox=dict(boxstyle=\"round,pad=0.3\", facecolor='white', edgecolor='#FF6B6B', alpha=0.8))\n",
    "ax.text(5.6, 9, r\"$L_{2}$\", fontsize=14, fontweight='bold',\n",
    "        bbox=dict(boxstyle=\"round,pad=0.3\", facecolor='white', edgecolor='#4ECDC4', alpha=0.8))\n",
    "ax.text(6.2, 13, r\"$L_{3}$\", fontsize=14, fontweight='bold',\n",
    "        bbox=dict(boxstyle=\"round,pad=0.3\", facecolor='white', edgecolor='#45B7D1', alpha=0.8))\n",
    "\n",
    "# Create reference lines for angles\n",
    "p0_a = [(0,0), (3,0)]\n",
    "p1_a = [(5,6), (8,9.6)]\n",
    "p2_a = [(7,12), (8,15)]\n",
    "aux_line_0 = ax.plot(*zip(*p0_a), linestyle=\"--\", color=\"#34495E\", alpha=0.7, linewidth=2)\n",
    "aux_line_1 = ax.plot(*zip(*p1_a), linestyle=\"--\", color=\"#34495E\", alpha=0.7, linewidth=2)\n",
    "aux_line_2 = ax.plot(*zip(*p2_a), linestyle=\"--\", color=\"#34495E\", alpha=0.7, linewidth=2)\n",
    "\n",
    "# Angle annotations\n",
    "am1 = AngleAnnotation(center0, p0_a[0], p1[1], ax=ax, size=75, text=r\"$\\theta_{1}$\", \n",
    "                     textposition=\"outside\", color=\"#FF6B6B\", linewidth=2)\n",
    "am2 = AngleAnnotation(center1, p1_a[1], p2[1], ax=ax, size=75, text=r\"$\\theta_{2}$\", \n",
    "                     textposition=\"outside\", color=\"#4ECDC4\", linewidth=2)\n",
    "am3 = AngleAnnotation(center2, p2_a[1], p3[1], ax=ax, size=75, text=r\"$\\theta_{3}$\", \n",
    "                     textposition=\"outside\", color=\"#45B7D1\", linewidth=2)\n",
    "\n",
    "# Legend\n",
    "ax.legend(loc='upper left', fontsize=10, frameon=True, fancybox=True, \n",
    "          shadow=True, framealpha=0.9, facecolor='white')\n",
    "\n",
    "# Set axis limits for better visualization\n",
    "ax.set_xlim(-1, 10)\n",
    "ax.set_ylim(-1, 17)\n",
    "\n",
    "# Equal aspect ratio for proper geometric representation\n",
    "ax.set_aspect('equal', adjustable='box')\n",
    "\n",
    "# Add subtle background color\n",
    "ax.set_facecolor('#FAFAFA')\n",
    "\n",
    "plt.tight_layout()\n",
    "plt.show()"
   ],
   "metadata": {
    "collapsed": false
   },
   "id": "f2b0b423b10df7a7"
  },
  {
   "cell_type": "markdown",
   "source": [
    "There is a clear pattern forming. Analyzing it in the same way the first proposed problem, the 2-linked robotic arm, was analyzed, it is noticeable that the coordinates for the end points of each link are dependent on the angles that said links make with the direction of the link before them, which in turn is dependent on the angle it makes with the one before them. It is a composition of the angles that then determine how each of the $L_{i}$'s \"contributes\" to the position of each coordinate. \n",
    "\n",
    "It is clear that, for this case, the position of the end of the arm in cartesian coordinates is given by the following equations:\n",
    "$$\n",
    "\\begin{align*}\n",
    "x(\\theta_{1}, \\theta_{2}, \\theta_{3}) = L_{1} \\cos (\\theta_{1}) + L_{2} \\cos (\\theta_{1} + \\theta_{2}) + L_{3} \\cos (\\theta_{1} + \\theta_{2} + \\theta_{3}) \\\\\n",
    "y(\\theta_{1}, \\theta_{2}, \\theta_{3}) = L_{1} \\sin (\\theta_{1}) + L_{2} \\sin (\\theta_{1} + \\theta_{2}) + L_{3} \\sin (\\theta_{1} + \\theta_{2} + \\theta_{3})\n",
    "\\end{align*}\n",
    "$$ \n",
    "The resulting linear system is as follows:\n",
    "$$\n",
    "\\begin{align*}\n",
    "F_{1}(\\theta_{1}, \\theta_{2}, \\theta_{3}) = x(\\theta_{1}, \\theta_{2}, \\theta_{3}) - x_{d} = 0 \\\\\n",
    "F_{2}(\\theta_{1}, \\theta_{2}, \\theta_{3}) = y(\\theta_{1}, \\theta_{2}, \\theta_{3}) - y_{d} = 0\n",
    "\\end{align*}\n",
    "$$"
   ],
   "metadata": {
    "collapsed": false
   },
   "id": "6339695f01db1e06"
  },
  {
   "cell_type": "markdown",
   "source": [
    "Now, understanding the structure of the problem, one may generalize its form. Suppose now that there is a robotic arm with $n$ links, and the objective is the same as before: Find a configuration in which the robotic arm's extreme may reach an end point $(x_{d}, y_{d})$. \n",
    "\n",
    "In this configuration, each link has an associated length $L_{i}$ and an associated angle $\\theta_{i}$, with $i \\in \\{1,2,\\dots,n\\}$, where $\\theta_{1}$ is the angle that the first link makes with the x-axis, $\\theta_{2}$ is the angle that the second link makes with respect to the direction of the first link, $\\theta_{3}$ is the one the third link makes with the second link, and so on. We incur in the following notation to express the vectors comprised of the lengths of the links and the angles of the links:\n",
    "$$\n",
    "\\begin{align*}\n",
    "\\boldsymbol{L} = [L_{1}, \\ L_{2}, \\ \\dots, \\ L_{n}]^{T} \\\\\n",
    "\\boldsymbol{\\theta} = [\\theta_{1}, \\ \\theta_{2}, \\ \\dots, \\ \\theta_{n}]^{T}\n",
    "\\end{align*}\n",
    "$$\n",
    "\n",
    "The resulting equations for the positions for the extreme of the robotic arm are as follows:\n",
    "$$\n",
    "\\begin{align*}\n",
    "x(\\boldsymbol{\\theta}) = \\sum_{i = 1}^{n} L_{i} \\cos \\left(\\sum_{j=1}^{i} \\theta_{j}\\right) \\\\\n",
    "y(\\boldsymbol{\\theta}) = \\sum_{i = 1}^{n} L_{i} \\sin \\left(\\sum_{j=1}^{i} \\theta_{j}\\right)\n",
    "\\end{align*}\n",
    "$$\n",
    "And the corresponding system of equations is, of course:\n",
    "$$\n",
    "\\begin{align*}\n",
    "F_{1}(\\boldsymbol{\\theta}) = x(\\boldsymbol{\\theta}) - x_{d} = 0 \\\\\n",
    "F_{2}(\\boldsymbol{\\theta}) = y(\\boldsymbol{\\theta}) - y_{d} = 0\n",
    "\\end{align*}\n",
    "$$\n",
    "\n",
    "Again, it is important to see if a given end point is reachable with the arm. The upper bound is clear.\n",
    "$$\n",
    "\\sqrt{x_{d}^{2} + y_{d}^{2}} \\leq \\sum_{i = 1}^{n} L_{i}\n",
    "$$\n",
    "\n",
    "The lower bound, not so much. In the case with $n = 2$ links, the closest you could get to the origin (equivalently, the closest you could get the arm to its \"base\"), was obtained by throwing out the first link in any direction, and then putting the other link in the reverse direction, trying to get back to the zero point. This would result in how close can the end point be while being reachable, which results in the constraint that appears above. When trying this with $3$ links, however, the process isn't that simple. Trying to put all links on the same line (making their respective angles either $180°$ or $360°$ degrees) won't always give the closest distance; angling the links _just right_ might probably get closer, or even exactly to, the zero point. \n",
    "\n",
    "The trick is in the angling. The reasoning is this, supposing that $n \\geq 3$: Put the first link in any direction. Put the following links all facing the opposite direction to that first link. If the line made up by the all the links (that aren't the first one) starting at the end of the first link goes beyond the origin, then the origin is reachable and therefore there is no lower bound for how close the end point can be (except from $0$, of course). **Why?** This is a bold claim, and maybe it is not proper to leave this unproven for the rigour of this work; however, the proof of this is out-of-scope of the task at hand, and is left to the reader. To view it geometrically, take the same construction from before (the first link in one direction, and the others in the opposite one) and, if it surpasses the origin, try moving one of the link's end points (not the last link) to the side. This will change the starting point of the next link, but the other end point of that link should still be in the line proposed by the direction of the first link. By doing this movement, notice how the final end point of the arm is closer to the origin. This process is repeatable until the base is reached. \n",
    "\n",
    "This then proposes the following lower bound for the distance of the desired end point. \n",
    "$$\n",
    "\\max\\{0, \\ L_{1} - \\sum_{i = 2}^{n} L_{i}\\} \\leq \\sqrt{x_{d}^{2} + y_{d}^{2}}\n",
    "$$\n",
    "\n",
    "With the problem properly proposed, the process to solve it goes as follows. "
   ],
   "metadata": {
    "collapsed": false
   },
   "id": "9b111c7a642ad38c"
  },
  {
   "cell_type": "markdown",
   "source": [
    "#### Newton's Method Theory"
   ],
   "metadata": {
    "collapsed": false
   },
   "id": "a07c6e8ddb1bad5d"
  },
  {
   "cell_type": "markdown",
   "source": [
    "Recalling the process followed above for the 2-link IK problem, the sequence of angles generated followed the equation:\n",
    "$$\n",
    "\\bold{\\theta}^{(k+1)} = \\bold{\\theta}^{(k)} + s^{(k)}.\n",
    "$$\n",
    "where $s^{(k)}$ was the solution to the system:\n",
    "$$\n",
    "J_F(\\bold{\\theta}^{(k)}) \\cdot s^{(k)} = -F(\\bold{\\theta}^{(k)}).\n",
    "$$\n",
    "where $J_F(\\bold{\\theta}^{(k)})$ is the **Jacobian matrix** of $F$ evaluated at $\\bold{\\theta}^{(k)}$, and:\n",
    "$$\n",
    "\\begin{align*}\n",
    "F(\\bold{\\theta}^{(k)}) =\n",
    "\\begin{bmatrix}\n",
    "x(\\bold{\\theta}^{(k)}) - x_d \\\\\n",
    "y(\\bold{\\theta}^{(k)}) - y_d\n",
    "\\end{bmatrix}.\n",
    "\\end{align*}\n",
    "$$"
   ],
   "metadata": {
    "collapsed": false
   },
   "id": "74c4f00e66b7bcb5"
  },
  {
   "cell_type": "markdown",
   "source": [
    "Ergo, one needs to calculate $s^{(k)}$ at each iteration. It is fairly simple to calculate $\\bold{\\theta}^{(k)}$; however, calculating $J_F(\\bold{\\theta}^{(k)})$ might be more of a challenge.\n",
    " \n",
    "The number of rows in a Jacobian are usually dependent on how many equations the problem has, whereas the number of columns is related to how many variables are present. In this case, the Jacobian is of size $2 \\times n$, since there are $n$ angles that need to be calculated. The resulting vector $s^{(k)}$ is of size $n \\times 1$, since it ought to be of the same size as the solution vector $\\bold{\\theta}$. Doing the matrix multiplication, the resulting vector is of size $2 \\times 1$, which is exactly the dimension of the vector $F(\\bold{\\theta}^{(k)})$. With this, one can be sure that the process is done right. \n",
    "\n",
    "Recall the Jacobian for the problem with 2 links:\n",
    "$$\n",
    "\\begin{align*}\n",
    "J_F(\\theta^{(k)}) =\n",
    "\\begin{bmatrix}\n",
    "-L_1 \\sin(\\theta_1^{(k)}) - L_2 \\sin(\\theta_1^{(k)} + \\theta_2^{(k)}) &\n",
    "-L_2 \\sin(\\theta_1^{(k)} + \\theta_2^{(k)}) \\\\\n",
    "L_1 \\cos(\\theta_1^{(k)}) + L_2 \\cos(\\theta_1^{(k)} + \\theta_2^{(k)}) &\n",
    "L_2 \\cos(\\theta_1^{(k)} + \\theta_2^{(k)})\n",
    "\\end{bmatrix}.\n",
    "\\end{align*}\n",
    "$$\n",
    "\n",
    "Notice a pattern? Indeed, when differentiating $F_{1}(\\boldsymbol{\\theta}) = x(\\boldsymbol{\\theta}) - x_{d}$ and $F_{2}(\\boldsymbol{\\theta}) = y(\\boldsymbol{\\theta}) - y_{d}$ with respect with $\\theta_{n}$, only the last term in their respective sums $x(\\boldsymbol{\\theta}) = \\sum_{i = 1}^{n} L_{i} \\cos \\left(\\sum_{j=1}^{i} \\theta_{j}\\right)$ and $y(\\boldsymbol{\\theta}) = \\sum_{i = 1}^{n} L_{i} \\sin \\left(\\sum_{j=1}^{i} \\theta_{j}\\right)$ remains. When doing so with $\\theta_{n-1}$ instead, then it is the two last terms. If $J_F(\\bold{\\theta}^{(k)})_ {i, \\ j}$ notes the entry in the row $i$ with the column $j$ for the matrix $J_F(\\bold{\\theta}^{(k)})$, then the Jacobian matrix for this problem is as follows:\n",
    "$$\n",
    "\\begin{align*}\n",
    "J_F(\\bold{\\theta}^{(k)})_ {1, \\ j} = -\\sum_{k = j}^{n} L_{k} \\sin \\left(\\sum_{l=1}^{k} \\theta_{l}\\right), \\ \\text{for} \\ j = 1,2, \\dots, n\n",
    "\\\\\n",
    "J_F(\\bold{\\theta}^{(k)})_ {2, \\ j} = \\sum_{k = j}^{n} L_{k} \\cos \\left(\\sum_{l=1}^{k} \\theta_{l}\\right), \\ \\text{for} \\ j = 1,2, \\dots, n\n",
    "\\end{align*}\n",
    "$$\n",
    "\n",
    "However, one must notice a small issue. The Jacobian is not square. This becomes a huge issue when also noticing that to solve the linear system for $s^{(k)}$, the matrix **must** be square (to use Numpy's solver, ```np.linalg.solve```). There are two solutions for this problem:"
   ],
   "metadata": {
    "collapsed": false
   },
   "id": "a2acac23180d79d4"
  },
  {
   "cell_type": "markdown",
   "source": [
    "##### 1. Using a different method for finding $s^{(k)}$"
   ],
   "metadata": {
    "collapsed": false
   },
   "id": "514d848440e1d2c4"
  },
  {
   "cell_type": "markdown",
   "source": [
    "This might be the most straight-forward option, codewise. Instead of using ```np.linalg.solve``` in the algorithm, one could use ```np.linalg.lstsq```, which results in a proper value for $s^{(k)}$. The problem? This function uses **linear least-squares** to find the solution. It would then be necessary to explain what least-squares are in order to use the method. \n",
    "\n",
    "Least-squares is a technique used in statistics, specifically in regression analysis, to find the best-fit line that represents the overall direction of certain data set.\n",
    "A linear least-squares problem may be represented as follows:\n",
    "$$\n",
    "\\min ||y-X \\beta ||^2\n",
    "$$\n",
    "which is a minimization problem, where $y \\in \\mathbb{R}^{m}, \\beta \\in \\mathbb{R}^{n}, X \\in M_{m \\times n}$. Amongst the methods for finding this optimal, one may find two types: \n",
    "- Methods that invert the matrix of normal equations: The normal equation is: \n",
    "$$\n",
    "(X^{T}X) \\beta = X^{T}y\n",
    "$$\n",
    "These methods usually find a solution by calculating the Moore–Penrose pseudoinverse of $X$ ($(X^{T}X)^{-1}X^{T}$), or by doing a Cholesky decomposition. \n",
    "- Orthogonal Decomposition Methods: These methods decompose $X$ orthogonally to find the solutions. They are also slower than the formers, but are more numerically stable.\n",
    " \n",
    "Numpy's linear least squares method finds a vector $x$ that solves approximately the equation $Ax = b$. If the problem is well-determined, then the resulting vector $x$ is the _exact_ solution to the problem (similar to using the linear solver). In other cases, where the problem is under-, or over-determined (the number of linearly independent rows of $A$ are less than, or greater than its number of linearly independent columns), then $x$ minimizes the Euclidian 2-norm $||b-Ax||$. It is unclear on which method Numpy's function uses to find the least-squares (safe one wants to unravel the code in the library). Since this method minimizes this \"distance\", the resulting $x$ is a viable solution for the system. Then, it can be replaced in Newton's iteration.     "
   ],
   "metadata": {
    "collapsed": false
   },
   "id": "39e8ea6f595834bb"
  },
  {
   "cell_type": "markdown",
   "source": [
    "##### 2. Adjusting the problem to make the Jacobian square"
   ],
   "metadata": {
    "collapsed": false
   },
   "id": "b9e88ce016f30adc"
  },
  {
   "cell_type": "markdown",
   "source": [
    "Another solution one may come up with is \"completing\" the Jacobian. In other words, one may complete the system by adding more equations. With the problem as is, the number of solutions is quite high, multiple combinations of angles are possible for a single end point. If one restricts the problem further, it is easier to pinpoint a singular solution. \n",
    "\n",
    "The obvious problem here lies in the question: What equations? One may propose multiple restrictions to the angles, specially if one is treating with a real-life problem (not just theoretical) which brings along physical problems, such as certain links not being able to make a bigger angle than a certain value, and of the sorts. Having the comforting thought of the \"straightforwardness\" of this dilemma, inadvertently one has stumbled into another problem. Since the amount of links may change, the amount of equations that one must create is increasing. \n",
    "\n",
    "There are different types of constraints one may add to the problem. \n",
    "1. Fixed joints: One may add a restriction which fixes a joint at a desired angle.\n",
    "Example: $\\theta_{j} - \\theta_{j}_\\text{ref}= 0$ \n",
    "2. Distributed load: Adding an equation forcing joints to share the bending load.\n",
    "Example: $\\theta_{i} - \\theta_{j} = 0$.\n",
    "\n",
    "All of these are comprised of linear terms. This makes the problem easier in general, but most of all, easy to code. One important thing to note, however, is that to use Newton's method, the matrix must be non-singular. This means that the added restrictions mustn't be linearly dependent with each other. "
   ],
   "metadata": {
    "collapsed": false
   },
   "id": "b68ce889eb0be4c"
  },
  {
   "cell_type": "markdown",
   "source": [
    "#### Newton's Method Implementation"
   ],
   "metadata": {
    "collapsed": false
   },
   "id": "a62c906582d5314b"
  },
  {
   "cell_type": "markdown",
   "source": [
    "With all the pieces, it is time to build up the method. "
   ],
   "metadata": {
    "collapsed": false
   },
   "id": "c3ed6dcd620eb96e"
  },
  {
   "cell_type": "markdown",
   "source": [
    "For the sake of curiosity, one may program both approaches described above for Newton's implementation for this problem. "
   ],
   "metadata": {
    "collapsed": false
   },
   "id": "8f66273fbe43b34d"
  },
  {
   "cell_type": "markdown",
   "source": [
    "##### 1. Using Linear Least Squares"
   ],
   "metadata": {
    "collapsed": false
   },
   "id": "bd7c54031bdf7ce5"
  },
  {
   "cell_type": "markdown",
   "source": [
    "Using ```np.linalg.lstsq``` to compute the step. "
   ],
   "metadata": {
    "collapsed": false
   },
   "id": "736cf1c3e6f283f8"
  },
  {
   "cell_type": "code",
   "outputs": [],
   "source": [
    "def forward_kinematics_n(theta, L):\n",
    "    \"\"\"\n",
    "    Compute the (x, y) end position of the last link of the arm given the angles and lengths.\n",
    "    \n",
    "    Parameters\n",
    "    ----------\n",
    "    theta : list or np.array\n",
    "        Vector of angles\n",
    "    L : list or np.array\n",
    "        Vector of lengths\n",
    "\n",
    "    Returns\n",
    "    -------\n",
    "    (x,y) : np.array\n",
    "        Vector of positions (x,y) of the last link of the arm.\n",
    "    \"\"\"\n",
    "    # Verify theta and L are of the same size.\n",
    "    assert(len(theta) == len(L)), r\"Lengths of the array $\\bold{\\theta}$ and $L$ must be the same.\"\n",
    "      \n",
    "    # Number of variables  \n",
    "    n = len(theta)\n",
    "    x, y = (0,0)\n",
    "    for i in range(n):\n",
    "        x += L[i] * np.cos(sum(theta[0:i+1]))\n",
    "        y += L[i] * np.sin(sum(theta[0:i+1]))\n",
    "\n",
    "    return np.array([x, y])\n",
    "\n",
    "def F_n(theta, L, xd, yd):\n",
    "    \"\"\"\n",
    "    Calculate the distance between the desired end point and the current position of the arm given the angles and lengths\n",
    "    \n",
    "    Parameters\n",
    "    ----------\n",
    "    theta : list or np.array\n",
    "        Vector of angles\n",
    "    L : list or np.array\n",
    "        Vector of lengths\n",
    "    xd : float\n",
    "        Coordinate x of the end point\n",
    "    yd : float\n",
    "        Coordinate y of the end point \n",
    "\n",
    "    Returns\n",
    "    -------\n",
    "    F : np.array\n",
    "        Vector of positions (x - xd, y - yd) of the difference of positions. \n",
    "    \"\"\"\n",
    "    x, y = forward_kinematics_n(theta, L)\n",
    "    return np.array([x - xd, y - yd])\n",
    "\n",
    "def J_n(theta, L):\n",
    "    \"\"\"\n",
    "    Calculate the Jacobian for the current iteration\n",
    "    \n",
    "    Parameters\n",
    "    ----------\n",
    "    theta : list or np.array\n",
    "        Vector of angles\n",
    "    L : list or np.array\n",
    "        Vector of lengths\n",
    "\n",
    "    Returns\n",
    "    -------\n",
    "    J : np.array\n",
    "        Jacobian of the problem evaluated at the given point \n",
    "    \"\"\"\n",
    "    # Verify theta and L are of the same size.\n",
    "    assert(len(theta) == len(L)), r\"Lengths of the array $\\bold{\\theta}$ and $L$ must be the same.\"\n",
    "    \n",
    "    # Number of variables  \n",
    "    n = len(theta)\n",
    "\n",
    "    # Calculate Jacobian\n",
    "    j_1 = [0 for _ in range(n)]\n",
    "    j_2 = [0 for _ in range(n)]\n",
    "    for i in range(n):\n",
    "        for j in range(i,n):    \n",
    "            j_1[i] += -L[j]*np.sin(sum(theta[0:j+1])) \n",
    "            j_2[i] += L[j]*np.cos(sum(theta[0:j+1])) \n",
    "    return np.array([j_1, j_2])"
   ],
   "metadata": {
    "collapsed": false
   },
   "id": "2a310ded552504b8"
  },
  {
   "cell_type": "code",
   "outputs": [],
   "source": [
    "def newton_inverse_kinematics_lstsq(L, xd, yd, theta0, tol=1e-8, max_iter=100):\n",
    "    \"\"\"\n",
    "    Solve the inverse kinematics problem using Newton’s method.\n",
    "\n",
    "    Parameters\n",
    "    ----------\n",
    "    L : list or np.array\n",
    "        Lengths of the links.\n",
    "    xd, yd : float\n",
    "        Desired target coordinates.\n",
    "    theta0 : list or np.array\n",
    "        Initial guess for theta.\n",
    "    tol : float\n",
    "        Tolerance for convergence (default: 1e-8).\n",
    "    max_iter : int\n",
    "        Maximum number of iterations allowed (default: 100.\n",
    "\n",
    "    Returns\n",
    "    -------\n",
    "    theta : np.array\n",
    "        Approximated joint angles [theta1, theta2].\n",
    "    k : int\n",
    "        Number of iterations performed.\n",
    "    \"\"\"\n",
    "    theta = np.array(theta0, dtype=float)\n",
    "    for k in range(max_iter):\n",
    "        f_val = F_n(theta, L, xd, yd)\n",
    "        if np.linalg.norm(f_val) < tol:\n",
    "            return theta, k\n",
    "        J_val = J_n(theta, L)\n",
    "        s, residuals, rank, x = np.linalg.lstsq(J_val, -f_val, rcond=None)  # Solve J * s = -F\n",
    "        theta = theta + s\n",
    "    raise RuntimeError(\"Newton method did not converge within the maximum iterations\")"
   ],
   "metadata": {
    "collapsed": false
   },
   "id": "8e45ce226c190edb"
  },
  {
   "cell_type": "markdown",
   "source": [
    "Having constructed the function, it is now matter of trying it."
   ],
   "metadata": {
    "collapsed": false
   },
   "id": "821518e41e5f993f"
  },
  {
   "cell_type": "code",
   "outputs": [],
   "source": [
    "# Link lengths\n",
    "L = [1.0, 0.7, 0.3, 0.6, 1.2]\n",
    "\n",
    "# Three reachable target positions\n",
    "targets = [\n",
    "    (\"Target A\", (1.7, 0.4)),\n",
    "    (\"Target B\", (0.2, 2.1)),\n",
    "    (\"Target C\", (0.5, 0.2))\n",
    "]\n",
    "\n",
    "# Initial guess for joint angles\n",
    "theta0 = [0.5, 0.5, 0.2, 0.3, 0.5]\n",
    "\n",
    "for name, (xd, yd) in targets:\n",
    "    try:\n",
    "        theta, iterations = newton_inverse_kinematics_lstsq(L, xd, yd, theta0, tol=1e-8)\n",
    "        pos = forward_kinematics_n(theta, L)\n",
    "        print(f\"{name}:\")\n",
    "        print(\"- Desired position:\", (xd, yd))\n",
    "        print(\"- Computed angles (theta1, theta2):\", theta)\n",
    "        print(\"- Reached position:\", pos)\n",
    "        print(\"- Iterations:\", iterations, \"\\n\")\n",
    "    except RuntimeError as e:\n",
    "        print(f\"{name}: did not converge ({str(e)})\")"
   ],
   "metadata": {
    "collapsed": false
   },
   "id": "f57306e1f65fdc18"
  },
  {
   "cell_type": "markdown",
   "source": [
    "##### 2. Adding equations"
   ],
   "metadata": {
    "collapsed": false
   },
   "id": "b082b3e9034a93dd"
  },
  {
   "cell_type": "markdown",
   "source": [
    "Since it is incredibly laborious to create a function that \"completes\" the Jacobian for any $n$ number of links in the robotic arm, this is an example for a specific value. \n",
    "\n",
    "Let $n = 4$, in this case. This means that the Jacobian is $2 \\times 4$, when it needs to be $4 \\times 4$. For this purpose, the non-linear system of equations changes to the following:\n",
    "$$\n",
    "\\begin{align*}\n",
    "F_{1}(\\boldsymbol{\\theta}) = x(\\boldsymbol{\\theta}) - x_{d} = 0 \\\\\n",
    "F_{2}(\\boldsymbol{\\theta}) = y(\\boldsymbol{\\theta}) - y_{d} = 0 \\\\\n",
    "F_{3}(\\boldsymbol{\\theta}) = \\theta_{3} + \\theta_{4} = 180 \\\\\n",
    "F_{4}(\\boldsymbol{\\theta}) = \\theta_{2} - \\theta_{4} = 0 \\\\\n",
    "\\end{align*}\n",
    "$$\n",
    "The last two equations are an example of what may be constructed. \n",
    "\n",
    "The Jacobian has the following structure:\n",
    "$$\n",
    "J_F(\\boldsymbol{\\theta}) =\n",
    "\\begin{bmatrix}\n",
    "\\frac{\\partial x}{\\partial \\theta_1} & \\frac{\\partial x}{\\partial \\theta_2} & \\frac{\\partial x}{\\partial \\theta_{3}} & \\frac{\\partial x}{\\partial \\theta_{4}} \\\\\n",
    "\\frac{\\partial y}{\\partial \\theta_1} & \\frac{\\partial y}{\\partial \\theta_2} & \\frac{\\partial y}{\\partial \\theta_{3}} & \\frac{\\partial y}{\\partial \\theta_{4}} \\\\\n",
    "0 & 0 & 1 & 1 \\\\\n",
    "0 & 1 & 0 & -1\n",
    "\\end{bmatrix}\n",
    "$$"
   ],
   "metadata": {
    "collapsed": false
   },
   "id": "f480ecd7b260606b"
  },
  {
   "cell_type": "markdown",
   "source": [
    "It is incredibly laborious to make a function that works for each value of $n$, and moreover, it is far more complicated if one wants to include restrictions that aren't linear. Here is an attempt at that. \n",
    "\n",
    "The following code takes an additional list of lists, where each list must be of size $n+1$ and must contain ```float``` values. These lists are interpreted each as a new component of the function $F(\\boldsymbol{\\theta})$, or rather, a new equation in the system. More clearly, \n",
    "$$\n",
    "(l_{1}, l_{2}, \\dots, l_{n}, d) \\rightarrow F_{j}(\\boldsymbol{\\theta}) = l_{1}*\\theta_{1} + l_{2}*\\theta_{2} + \\dots + l_{n}*\\theta_{n} = d \n",
    "$$\n",
    "\n",
    "This also means that the list of lists must include $n-2$ lists exactly. Of course, these lists also take part in the Jacobian, where the corresponding row in the Jacobian is the list of values itself (excluding the last value)."
   ],
   "metadata": {
    "collapsed": false
   },
   "id": "4b18e2cbbca331c6"
  },
  {
   "cell_type": "markdown",
   "source": [
    "With these bits, Newton's method is constructed. "
   ],
   "metadata": {
    "collapsed": false
   },
   "id": "be6f17efed3491c"
  },
  {
   "cell_type": "code",
   "outputs": [],
   "source": [
    "def F_n_jac(theta, L, xd, yd, xtr_cnstr):\n",
    "    \"\"\"\n",
    "    Calculate the distance between the desired end point and the current position of the arm given the angles and lengths\n",
    "    Parameters\n",
    "    ----------\n",
    "    theta : list or np.array\n",
    "        Vector of angles\n",
    "    L : list or np.array\n",
    "        Vector of lengths\n",
    "    xd : float\n",
    "        Coordinate x of the end point\n",
    "    yd : float\n",
    "        Coordinate y of the end point \n",
    "\n",
    "    Returns\n",
    "    -------\n",
    "    F : np.array\n",
    "        Vector of positions (x - xd, y - yd) of the difference of positions. \n",
    "    \"\"\"\n",
    "    # Verify lists are of correct length\n",
    "    assert(len(theta) == len(L)), r\"Lengths of the array $\\bold{\\theta}$ and $L$ must be the same.\"\n",
    "    \n",
    "    n = len(theta)\n",
    "    \n",
    "    # Verify there are the exact number of extra conditions\n",
    "    assert(len(xtr_cnstr) == n-2), r\"Extra constraints must be a list of ${n} - 2$ equations\"\n",
    "    # Verify that constraints are of correct size\n",
    "    for i in range(n-2):\n",
    "        assert(len(xtr_cnstr[i]) == n+1), r\"All constraints must be of size ${n} + 1$\"\n",
    "    \n",
    "    x, y = forward_kinematics_n(theta, L)\n",
    "    f = np.array([x - xd, y - yd])\n",
    "    for i in range(n-2):\n",
    "        f_i = 0 \n",
    "        for j in range(n):\n",
    "            f_i += theta[j] * xtr_cnstr[i][j]\n",
    "        f_i -= xtr_cnstr[i][-1]\n",
    "        f = np.hstack([f, f_i])\n",
    "    \n",
    "    return f\n",
    "\n",
    "def J_n_jac(theta, L, xtr_cnstr):\n",
    "    \"\"\"\n",
    "    Calculate the Jacobian for the current iteration\n",
    "    \n",
    "    Parameters\n",
    "    ----------\n",
    "    theta : list or np.array\n",
    "        Vector of angles\n",
    "    L : list or np.array\n",
    "        Vector of lengths\n",
    "\n",
    "    Returns\n",
    "    -------\n",
    "    J : np.array\n",
    "        Jacobian of the problem evaluated at the given point \n",
    "    \"\"\"\n",
    "    # Verify lists are of correct length\n",
    "    assert(len(theta) == len(L)), r\"Lengths of the array $\\bold{\\theta}$ and $L$ must be the same.\"\n",
    "    \n",
    "    n = len(theta)\n",
    "    \n",
    "    # Verify there are the exact number of extra conditions\n",
    "    assert(len(xtr_cnstr) == n-2), r\"Extra constraints must be a list of ${n} - 2$ equations\"\n",
    "    # Verify that constraints are of correct size\n",
    "    for i in range(n-2):\n",
    "        assert(len(xtr_cnstr[i]) == n+1), r\"All constraints must be of size ${n} + 1$\"\n",
    "        \n",
    "\n",
    "    # Calculate Jacobian\n",
    "    j_1 = [0 for _ in range(n)]\n",
    "    j_2 = [0 for _ in range(n)]\n",
    "    for i in range(n):\n",
    "        for j in range(i,n):    \n",
    "            j_1[i] += -L[j]*np.sin(sum(theta[0:j+1])) \n",
    "            j_2[i] += L[j]*np.cos(sum(theta[0:j+1])) \n",
    "    jac = np.array([j_1, j_2])\n",
    "    for i in range(n-2):\n",
    "        jac = np.vstack([jac, xtr_cnstr[i][0:n]])\n",
    "    \n",
    "    return jac"
   ],
   "metadata": {
    "collapsed": false
   },
   "id": "c7f6364366916ad1"
  },
  {
   "cell_type": "code",
   "outputs": [],
   "source": [
    "L = [1.0, 0.7, 0.3, 0.6, 1.2]\n",
    "theta = [0.1, 0.3, 0.5, 0.7, 0.9]\n",
    "xd, yd = (2.6, 0.7)\n",
    "xtr_cnstr = [[1, 0, 0, 0, -1, 0], [0, 0, 1, 1, 1, -np.pi], [0, -1, 0, 1, -1, 0]]\n",
    "\n",
    "print(F_n_jac(theta, L, xd, yd, xtr_cnstr))\n",
    "print(J_n_jac(theta, L, xtr_cnstr))"
   ],
   "metadata": {
    "collapsed": false
   },
   "id": "4838e26d67a38baf"
  },
  {
   "cell_type": "code",
   "outputs": [],
   "source": [
    "def newton_inverse_kinematics_jac(L, xd, yd, theta0, xtr_cnstr, tol=1e-8, max_iter=100):\n",
    "    \"\"\"\n",
    "    Solve the inverse kinematics problem using Newton’s method.\n",
    "\n",
    "    Parameters\n",
    "    ----------\n",
    "    L : list or np.array\n",
    "        Lengths of the links.\n",
    "    xd, yd : float\n",
    "        Desired target coordinates.\n",
    "    theta0 : list or np.array\n",
    "        Initial guess for theta.\n",
    "    tol : float\n",
    "        Tolerance for convergence (default: 1e-8).\n",
    "    max_iter : int\n",
    "        Maximum number of iterations allowed (default: 100.\n",
    "\n",
    "    Returns\n",
    "    -------\n",
    "    theta : np.array\n",
    "        Approximated joint angles [theta1, theta2].\n",
    "    k : int\n",
    "        Number of iterations performed.\n",
    "    \"\"\"\n",
    "    theta = np.array(theta0, dtype=float)\n",
    "    for k in range(max_iter):\n",
    "        f_val = F_n_jac(theta, L, xd, yd, xtr_cnstr)\n",
    "        if np.linalg.norm(f_val) < tol:\n",
    "            return theta, k\n",
    "        J_val = J_n_jac(theta, L, xtr_cnstr)\n",
    "    \n",
    "        s = np.linalg.solve(J_val, -f_val)  # Solve J * s = -F\n",
    "        theta = theta + s\n",
    "    raise RuntimeError(\"Newton method did not converge within the maximum iterations\")"
   ],
   "metadata": {
    "collapsed": false
   },
   "id": "f5681dcdf3a9b7eb"
  },
  {
   "cell_type": "code",
   "outputs": [],
   "source": [
    "# Link lengths\n",
    "L = [1.0, 0.7, 0.3, 0.6, 1.2]\n",
    "\n",
    "# Three reachable target positions\n",
    "targets = [\n",
    "    (\"Target A\", (-0.6, 0.4, 0)),\n",
    "    (\"Target B\", (-0.2, 0.1, 1)),\n",
    "    (\"Target C\", (0.5, 0.2, 2))\n",
    "]\n",
    "\n",
    "# Initial guess for joint angles\n",
    "theta0 = [[0.2, 0, 0.3, 0.3, 0.2], [0.1, 0.2, 0, 0.1, 0.1], [0.5, 0.2, 0.4, 0.8, 1]]\n",
    "\n",
    "# Extra constraints\n",
    "xtr_cnstr = [[1, 0, 0, 0, -1, 0], [0, 0, 0, 1, 1, -np.pi], [0, 0, 0, 1, -1, 0]]\n",
    "\n",
    "for name, (xd, yd, c) in targets:\n",
    "    try:\n",
    "        theta, iterations = newton_inverse_kinematics_jac(L, xd, yd, theta0[c], xtr_cnstr, tol=1e-8, max_iter=1000)\n",
    "        pos = forward_kinematics_n(theta, L)\n",
    "        print(f\"{name}:\")\n",
    "        print(\"- Desired position:\", (xd, yd))\n",
    "        print(\"- Computed angles (theta1, theta2):\", theta)\n",
    "        print(\"- Reached position:\", pos)\n",
    "        print(\"- Iterations:\", iterations, \"\\n\")\n",
    "    except RuntimeError as e:\n",
    "        print(f\"{name}: did not converge ({str(e)})\")"
   ],
   "metadata": {
    "collapsed": false
   },
   "id": "21829e95eaab2f0c"
  },
  {
   "cell_type": "code",
   "outputs": [],
   "source": [
    "# TODO: CHECK DISTANCE RESTRICTION FOR EACH FUNCTION\n",
    "# TODO: ITERATIONS FOR EACH FUNCTION\n",
    "# TODO: GRAPHS FOR EACH FUNCTION\n",
    "# TODO: DISCUSSION"
   ],
   "metadata": {
    "collapsed": false
   },
   "id": "12744eff0799a2ae"
  }
 ],
 "metadata": {
  "kernelspec": {
   "display_name": ".venv",
   "language": "python",
   "name": "python3"
  },
  "language_info": {
   "codemirror_mode": {
    "name": "ipython",
    "version": 3
   },
   "file_extension": ".py",
   "mimetype": "text/x-python",
   "name": "python",
   "nbconvert_exporter": "python",
   "pygments_lexer": "ipython3",
   "version": "3.13.5"
  }
 },
 "nbformat": 4,
 "nbformat_minor": 5
}
