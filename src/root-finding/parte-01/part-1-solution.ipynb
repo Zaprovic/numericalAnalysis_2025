{
 "cells": [
  {
   "cell_type": "markdown",
   "id": "efd72b2d729f9ae0",
   "metadata": {
    "collapsed": false
   },
   "source": [
    "# Part 1: Solution of Non-Linear Systems"
   ]
  },
  {
   "cell_type": "markdown",
   "id": "ab32d610d76d884e",
   "metadata": {
    "collapsed": false
   },
   "source": [
    "Made by:\n",
    "- Haiber Alfredo Alpala\n",
    "- Juan Pablo Gomez Gomez\n",
    "- Juan Diego Ospina Ocampo\n",
    "- Jose Fernando Portilla Roser\n",
    "- David Delgado Ortiz\n",
    "- Jacobo Zapata Rojas\n",
    "- Maria Paula Ardila Otero\n",
    "- Mariana Valencia \n",
    "- Samuel Mira Álvarez"
   ]
  },
  {
   "cell_type": "markdown",
   "id": "fa4f6048ca2ecae5",
   "metadata": {
    "collapsed": false
   },
   "source": [
    "## Inverse Kinematics of a 2-Link Planar Robot Arm"
   ]
  },
  {
   "cell_type": "markdown",
   "id": "eb9bfb10b95b5725",
   "metadata": {
    "collapsed": false
   },
   "source": [
    "Modern robotics requires autonomous systems to perform tasks with precision. One of the fundamental problems is inverse kinematics, that is, determining the angles that the joints of a robotic arm must adopt to reach a desired position in the plane (or space). This problem gives rise to systems of nonlinear equations, whose solution requires appropriate numerical methods. \n",
    "\n",
    "### Description of the problem\n",
    "\n",
    "Consider a planar robotic arm composed of two links of lengths $L_{1}$ and $L_{2}$, articulated by angles $\\theta_{1}$ (formed by the first link with the support base) and $\\theta_{2}$ (formed by the second link with respect to the first).\n",
    "\n",
    "The position of the end of the arm in the plane (in Cartesian coordinates) is given by:\n",
    "$$\n",
    "x(\\theta_{1}, \\theta_{2}) = L_{1} \\cos (\\theta_{1}) + L_{2} \\cos (\\theta_{1} + \\theta_{2}) \\\\\n",
    "y(\\theta_{1}, \\theta_{2}) = L_{1} \\sin (\\theta_{1}) + L_{2} \\sin (\\theta_{1} + \\theta_{2})\n",
    "$$\n",
    "\n",
    "To reach a desired point $(x_{d}, y_{d})$, the nonlinear system is considered:\n",
    "$$\n",
    "F_{1}(\\theta_{1}, \\theta_{2}) = x(\\theta_{1}, \\theta_{2}) - x_{d} = 0 \\\\\n",
    "F_{2}(\\theta_{1}, \\theta_{2}) = y(\\theta_{1}, \\theta_{2}) - y_{d} = 0\n",
    "$$\n",
    "\n"
   ]
  },
  {
   "cell_type": "code",
   "execution_count": 3,
   "id": "d9ec788da79de800",
   "metadata": {
    "collapsed": false,
    "ExecuteTime": {
     "end_time": "2025-09-10T18:27:14.805615Z",
     "start_time": "2025-09-10T18:27:14.626874Z"
    }
   },
   "outputs": [],
   "source": [
    "# Import dependencies here\n",
    "import numpy as np\n",
    "import matplotlib.pyplot as plt\n",
    "from scipy.optimize import fsolve"
   ]
  },
  {
   "cell_type": "markdown",
   "id": "9750c670038cc1e5",
   "metadata": {
    "collapsed": false
   },
   "source": [
    "### Part 1\n",
    "Implement Newton's Method to solve the resulting non-linear system. "
   ]
  },
  {
   "cell_type": "markdown",
   "id": "89439c23c05ff12d",
   "metadata": {
    "collapsed": false
   },
   "source": [
    "Here goes activity 1. "
   ]
  },
  {
   "cell_type": "markdown",
   "id": "abb0fb7f6fb5b1f5",
   "metadata": {
    "collapsed": false
   },
   "source": [
    "### Part 2\n",
    "Choose realistic values for $L_{1}$, $L_{2}$ and at least three final positions $(x_{d}, y_{d})$ and evaluate the results of the method."
   ]
  },
  {
   "cell_type": "markdown",
   "id": "262af0e40cb0591f",
   "metadata": {
    "collapsed": false
   },
   "source": [
    "Here goes activity 2."
   ]
  },
  {
   "cell_type": "markdown",
   "id": "ed3c9b7cc8187283",
   "metadata": {
    "collapsed": false
   },
   "source": [
    "### Part 3\n",
    "Analyze the sensibility of the initial conditions and discuss the cases in which the method converges and difficulties in implementation.  "
   ]
  },
  {
   "cell_type": "markdown",
   "id": "b8b40a7188ed1aeb",
   "metadata": {
    "collapsed": false
   },
   "source": [
    "Here goes activity 3."
   ]
  },
  {
   "cell_type": "markdown",
   "id": "f2c8779c1ecc0e31",
   "metadata": {
    "collapsed": false
   },
   "source": [
    "### Part 4\n",
    "Visualize the final end positions and the intermediate trajectories of the arm. "
   ]
  },
  {
   "cell_type": "markdown",
   "id": "1f4985b47d43412c",
   "metadata": {
    "collapsed": false
   },
   "source": [
    "Here goes activity 4. "
   ]
  },
  {
   "cell_type": "markdown",
   "id": "805cf3560f4a114",
   "metadata": {
    "collapsed": false
   },
   "source": [
    "### Part 5\n",
    "Generalize the model to an arm with $n \\geq 3$ links. In this case, the system is composed of $n$ non-linear equations and the number of solutions can increase substantially. "
   ]
  },
  {
   "cell_type": "markdown",
   "id": "1fdc39a88e6ec45f",
   "metadata": {
    "collapsed": false
   },
   "source": [
    "After the development done above, it is now tasked to generalize the model for a robotic arm with more than $2$ links. \n",
    "\n",
    "Although daunting at first glance, the problem is rather straightforward. The following graphic serves as an illustration to further clear doubts. \n"
   ]
  },
  {
   "cell_type": "code",
   "outputs": [
    {
     "data": {
      "text/plain": "<Figure size 640x480 with 1 Axes>",
      "image/png": "[encoded data removed]"
     },
     "metadata": {},
     "output_type": "display_data"
    }
   ],
   "source": [
    "'''\n",
    "The following class is miscellaneous code for the graphic. It can be found at:\n",
    "https://matplotlib.org/stable/gallery/text_labels_and_annotations/angle_annotation.html#sphx-glr-gallery-text-labels-and-annotations-angle-annotation-py\n",
    "'''\n",
    "from matplotlib.patches import Arc\n",
    "from matplotlib.transforms import Bbox, IdentityTransform, TransformedBbox\n",
    "\n",
    "\n",
    "class AngleAnnotation(Arc):\n",
    "    \"\"\"\n",
    "    Draws an arc between two vectors which appears circular in display space.\n",
    "    \"\"\"\n",
    "    def __init__(self, xy, p1, p2, size=75, unit=\"points\", ax=None,\n",
    "                 text=\"\", textposition=\"inside\", text_kw=None, **kwargs):\n",
    "        \"\"\"\n",
    "        Parameters\n",
    "        ----------\n",
    "        xy, p1, p2 : tuple or array of two floats\n",
    "            Center position and two points. Angle annotation is drawn between\n",
    "            the two vectors connecting *p1* and *p2* with *xy*, respectively.\n",
    "            Units are data coordinates.\n",
    "\n",
    "        size : float\n",
    "            Diameter of the angle annotation in units specified by *unit*.\n",
    "\n",
    "        unit : str\n",
    "            One of the following strings to specify the unit of *size*:\n",
    "\n",
    "            * \"pixels\": pixels\n",
    "            * \"points\": points, use points instead of pixels to not have a\n",
    "              dependence on the DPI\n",
    "            * \"axes width\", \"axes height\": relative units of Axes width, height\n",
    "            * \"axes min\", \"axes max\": minimum or maximum of relative Axes\n",
    "              width, height\n",
    "\n",
    "        ax : `matplotlib.axes.Axes`\n",
    "            The Axes to add the angle annotation to.\n",
    "\n",
    "        text : str\n",
    "            The text to mark the angle with.\n",
    "\n",
    "        textposition : {\"inside\", \"outside\", \"edge\"}\n",
    "            Whether to show the text in- or outside the arc. \"edge\" can be used\n",
    "            for custom positions anchored at the arc's edge.\n",
    "\n",
    "        text_kw : dict\n",
    "            Dictionary of arguments passed to the Annotation.\n",
    "\n",
    "        **kwargs\n",
    "            Further parameters are passed to `matplotlib.patches.Arc`. Use this\n",
    "            to specify, color, linewidth etc. of the arc.\n",
    "\n",
    "        \"\"\"\n",
    "        self.ax = ax or plt.gca()\n",
    "        self._xydata = xy  # in data coordinates\n",
    "        self.vec1 = p1\n",
    "        self.vec2 = p2\n",
    "        self.size = size\n",
    "        self.unit = unit\n",
    "        self.textposition = textposition\n",
    "\n",
    "        super().__init__(self._xydata, size, size, angle=0.0,\n",
    "                         theta1=self.theta1, theta2=self.theta2, **kwargs)\n",
    "\n",
    "        self.set_transform(IdentityTransform())\n",
    "        self.ax.add_patch(self)\n",
    "\n",
    "        self.kw = dict(ha=\"center\", va=\"center\",\n",
    "                       xycoords=IdentityTransform(),\n",
    "                       xytext=(0, 0), textcoords=\"offset points\",\n",
    "                       annotation_clip=True)\n",
    "        self.kw.update(text_kw or {})\n",
    "        self.text = ax.annotate(text, xy=self._center, **self.kw)\n",
    "\n",
    "    def get_size(self):\n",
    "        factor = 1.\n",
    "        if self.unit == \"points\":\n",
    "            factor = self.ax.figure.dpi / 72.\n",
    "        elif self.unit[:4] == \"axes\":\n",
    "            b = TransformedBbox(Bbox.unit(), self.ax.transAxes)\n",
    "            dic = {\"max\": max(b.width, b.height),\n",
    "                   \"min\": min(b.width, b.height),\n",
    "                   \"width\": b.width, \"height\": b.height}\n",
    "            factor = dic[self.unit[5:]]\n",
    "        return self.size * factor\n",
    "\n",
    "    def set_size(self, size):\n",
    "        self.size = size\n",
    "\n",
    "    def get_center_in_pixels(self):\n",
    "        \"\"\"return center in pixels\"\"\"\n",
    "        return self.ax.transData.transform(self._xydata)\n",
    "\n",
    "    def set_center(self, xy):\n",
    "        \"\"\"set center in data coordinates\"\"\"\n",
    "        self._xydata = xy\n",
    "\n",
    "    def get_theta(self, vec):\n",
    "        vec_in_pixels = self.ax.transData.transform(vec) - self._center\n",
    "        return np.rad2deg(np.arctan2(vec_in_pixels[1], vec_in_pixels[0]))\n",
    "\n",
    "    def get_theta1(self):\n",
    "        return self.get_theta(self.vec1)\n",
    "\n",
    "    def get_theta2(self):\n",
    "        return self.get_theta(self.vec2)\n",
    "\n",
    "    def set_theta(self, angle):\n",
    "        pass\n",
    "\n",
    "    # Redefine attributes of the Arc to always give values in pixel space\n",
    "    _center = property(get_center_in_pixels, set_center)\n",
    "    theta1 = property(get_theta1, set_theta)\n",
    "    theta2 = property(get_theta2, set_theta)\n",
    "    width = property(get_size, set_size)\n",
    "    height = property(get_size, set_size)\n",
    "\n",
    "    # The following two methods are needed to update the text position.\n",
    "    def draw(self, renderer):\n",
    "        self.update_text()\n",
    "        super().draw(renderer)\n",
    "\n",
    "    def update_text(self):\n",
    "        c = self._center\n",
    "        s = self.get_size()\n",
    "        angle_span = (self.theta2 - self.theta1) % 360\n",
    "        angle = np.deg2rad(self.theta1 + angle_span / 2)\n",
    "        r = s / 2\n",
    "        if self.textposition == \"inside\":\n",
    "            r = s / np.interp(angle_span, [60, 90, 135, 180],\n",
    "                                          [3.3, 3.5, 3.8, 4])\n",
    "        self.text.xy = c + r * np.array([np.cos(angle), np.sin(angle)])\n",
    "        if self.textposition == \"outside\":\n",
    "            def R90(a, r, w, h):\n",
    "                if a < np.arctan(h/2/(r+w/2)):\n",
    "                    return np.sqrt((r+w/2)**2 + (np.tan(a)*(r+w/2))**2)\n",
    "                else:\n",
    "                    c = np.sqrt((w/2)**2+(h/2)**2)\n",
    "                    T = np.arcsin(c * np.cos(np.pi/2 - a + np.arcsin(h/2/c))/r)\n",
    "                    xy = r * np.array([np.cos(a + T), np.sin(a + T)])\n",
    "                    xy += np.array([w/2, h/2])\n",
    "                    return np.sqrt(np.sum(xy**2))\n",
    "\n",
    "            def R(a, r, w, h):\n",
    "                aa = (a % (np.pi/4))*((a % (np.pi/2)) <= np.pi/4) + \\\n",
    "                     (np.pi/4 - (a % (np.pi/4)))*((a % (np.pi/2)) >= np.pi/4)\n",
    "                return R90(aa, r, *[w, h][::int(np.sign(np.cos(2*a)))])\n",
    "\n",
    "            bbox = self.text.get_window_extent()\n",
    "            X = R(angle, r, bbox.width, bbox.height)\n",
    "            trans = self.ax.figure.dpi_scale_trans.inverted()\n",
    "            offs = trans.transform(((X-s/2), 0))[0] * 72\n",
    "            self.text.set_position([offs*np.cos(angle), offs*np.sin(angle)])\n",
    "            \n",
    "'''\n",
    "Now, the graphic may be constructed. \n",
    "'''\n",
    "# Create the figure\n",
    "fig, ax = plt.subplots()\n",
    "fig.canvas.draw() \n",
    "ax.set_title(\"Robotic Arm with 3 links\")\n",
    "ax.set_yticklabels([])\n",
    "ax.set_xticklabels([])\n",
    "\n",
    "# Annotate points and lines\n",
    "center0 = (0,0)\n",
    "center1 = (5, 6)\n",
    "center2 = (7,12)\n",
    "p1 = [(0, 0), (5, 6)]\n",
    "p2 = [(5,6), (7, 12)]\n",
    "p3 = [(7,12), (6, 15)]\n",
    "\n",
    "ax.text(2.5, 3.5, r\"$L_{1}$\")\n",
    "ax.text(5.6, 9, r\"$L_{2}$\")\n",
    "ax.text(6.2, 13, r\"$L_{3}$\")\n",
    "line1, = ax.plot(*zip(*p1), color = \"navy\")\n",
    "line2, = ax.plot(*zip(*p2), color = \"indigo\")\n",
    "line3, = ax.plot(*zip(*p3), color = \"deeppink\")\n",
    "point0, = ax.plot(*center0, marker=\"o\", color = \"midnightblue\")\n",
    "point1, = ax.plot(*center1, marker=\"o\", color = \"mediumslateblue\")\n",
    "point2, = ax.plot(*center2, marker=\"o\", color = \"violet\")\n",
    "end = ax.plot(6, 15, marker=\"^\", color = \"pink\")\n",
    "\n",
    "# Create dotted lines for the angles\n",
    "p0_a = [(0,0), (3,0)]\n",
    "p1_a = [(5,6), (8,9.6)]\n",
    "p2_a = [(7,12), (8,15)]\n",
    "aux_line_0 = ax.plot(*zip(*p0_a), linestyle=\"--\", color = \"lightsteelblue\")\n",
    "aux_line_1 = ax.plot(*zip(*p1_a), linestyle=\"--\", color = \"thistle\")\n",
    "aux_line_2 = ax.plot(*zip(*p2_a), linestyle=\"--\", color = \"lavenderblush\")\n",
    "\n",
    "# Finally, create angles\n",
    "am1 = AngleAnnotation(center0, p0_a[0], p1[1], ax=ax, size=75, text=r\"$\\theta_{1}$\", textposition=\"outside\")\n",
    "am2 = AngleAnnotation(center1, p1_a[1], p2[1], ax=ax, size=75, text=r\"$\\theta_{2}$\", textposition=\"outside\")\n",
    "am3 = AngleAnnotation(center2, p2_a[1], p3[1], ax=ax, size=75, text=r\"$\\theta_{3}$\", textposition=\"outside\")"
   ],
   "metadata": {
    "collapsed": false,
    "ExecuteTime": {
     "end_time": "2025-09-10T19:58:36.475868Z",
     "start_time": "2025-09-10T19:58:36.338222Z"
    }
   },
   "id": "b6ec85dab3f1a807",
   "execution_count": 95
  },
  {
   "cell_type": "markdown",
   "source": [
    "There is a clear pattern forming. Analyzing it in the same way the first proposed problem, the 2-linked robotic arm, was analyzed, it is noticeable that the coordinates for the end points of each link are dependent on the angles that said links make with the direction of the link before them, which in turn is dependent on the angle it makes with the one before them. It is a composition of the angles that then determine how each of the $L_{i}$'s \"contributes\" to the position of each coordinate. \n",
    "\n",
    "It is clear that, for this case, the position of the end of the arm in cartesian coordinates is given by the following equations:\n",
    "$$\n",
    "x(\\theta_{1}, \\theta_{2}, \\theta_{3}) = L_{1} \\cos (\\theta_{1}) + L_{2} \\cos (\\theta_{1} + \\theta_{2}) + L_{3} \\cos (\\theta_{1} + \\theta_{2} + \\theta_{3}) \\\\\n",
    "y(\\theta_{1}, \\theta_{2}, \\theta_{3}) = L_{1} \\sin (\\theta_{1}) + L_{2} \\sin (\\theta_{1} + \\theta_{2}) + L_{3} \\sin (\\theta_{1} + \\theta_{2} + \\theta_{3})\n",
    "$$ \n",
    "The resulting linear system is as follows:\n",
    "$$\n",
    "F_{1}(\\theta_{1}, \\theta_{2}, \\theta_{3}) = x(\\theta_{1}, \\theta_{2}, \\theta_{3}) - x_{d} = 0 \\\\\n",
    "F_{2}(\\theta_{1}, \\theta_{2}, \\theta_{3}) = y(\\theta_{1}, \\theta_{2}, \\theta_{3}) - y_{d} = 0\n",
    "$$"
   ],
   "metadata": {
    "collapsed": false
   },
   "id": "18752ac610f00b7c"
  },
  {
   "cell_type": "markdown",
   "source": [
    "Now, understanding the structure of the problem, one may generalize its form. Suppose now that there is a robotic arm with $n$ links, and the objective is the same as before: Find a configuration in which the robotic arm's extreme may reach an end point $(x_{d}, y_{d})$. \n",
    "\n",
    "In this configuration, each link has an associated length $L_{i}$ and an associated angle $\\theta_{i}$, with $i \\in \\{1,2,\\dots,n\\}$, where $\\theta_{1}$ is the angle that the first link makes with the x-axis, $\\theta_{2}$ is the angle that the second link makes with respect to the direction of the first link, $\\theta_{3}$ is the one the third link makes with the second link, and so on. We incur in the following notation to express the vectors comprised of the lengths of the links and the angles of the links:\n",
    "$$\n",
    "\\bold{L} = [L_{1}, \\ L_{2}, \\ \\dots, \\ L_{n}]^{T}\n",
    "\\\\\n",
    "\\bold{\\theta} = [\\theta_{1}, \\ \\theta_{2}, \\ \\dots, \\ \\theta_{n}]^{T}\n",
    "$$\n",
    "\n",
    "The resulting equations for the positions for the extreme of the robotic arm are as follows:\n",
    "$$\n",
    "x(\\bold{\\theta}) = \\sum_{i = 1}^{n} L_{i} \\cos (\\sum_{j=1}^{i} \\theta_{j})\n",
    "\\\\\n",
    "y(\\bold{\\theta}) = \\sum_{i = 1}^{n} L_{i} \\sin (\\sum_{j=1}^{i} \\theta_{j})\n",
    "$$\n",
    "And the corresponding system of equations is, of course:\n",
    "$$\n",
    "F_{1}(\\bold{\\theta}) = x(\\bold{\\theta}) - x_{d} = 0 \\\\\n",
    "F_{2}(\\bold{\\theta}) = y(\\bold{\\theta}) - y_{d} = 0\n",
    "$$\n",
    "\n",
    "Again, it is important to see if a given end point is reachable with the arm. The upper bound is clear.\n",
    "$$\n",
    "\\sqrt{x_{d}^{2} + y_{d}^{2}} \\leq \\sum_{i = 1}^{n} L_{i}\n",
    "$$\n",
    "\n",
    "The lower bound, not so much. In the case with $n = 2$ links, the closest you could get to the origin (equivalently, the closest you could get the arm to its \"base\"), was obtained by throwing out the first link in any direction, and then putting the other link in the reverse direction, trying to get back to the zero point. This would result in how close can the end point be while being reachable. When trying this with $3$ links, however, the process isn't that simple. Trying to put all links on the same line (making their respective angles either $180°$ or $360°$ degrees) won't always give the closest distance; angling the links _just right_ might probably get closer, or even exactly to, the zero point. \n",
    "\n",
    "The trick is in the angling. The reasoning is this, supposing that $n \\geq 3$: Put the first link in any direction. Put the following links all facing the opposite direction to that first link. If the line made up by the all the links (that aren't the first one) starting at the end of the first link goes beyond the origin, then the origin is reachable and therefore there is no lower bound for how close the end point can be (except from $0$, of course). **Why?** This is a bold claim, and maybe it is not proper to leave this unproven for the rigour of this work; however, the proof of this is out-of-scope of the task at hand, and is left to the reader. To view it geometrically, take the same construction from before (the first link in one direction, and the others in the opposite one) and, if it surpasses the origin, try moving one of the link's end points (not the last link) to the side. This will change the starting point of the next link, but the other end point of that link should still be in the line proposed by the direction of the first link. By doing this movement, notice how the final end point of the arm is closer to the origin. This process is repeatable until the base is reached. "
   ],
   "metadata": {
    "collapsed": false
   },
   "id": "5cf9365a29477981"
  },
  {
   "cell_type": "code",
   "outputs": [],
   "source": [],
   "metadata": {
    "collapsed": false
   },
   "id": "29c49d213edaaffa"
  }
 ],
 "metadata": {
  "kernelspec": {
   "display_name": ".venv",
   "language": "python",
   "name": "python3"
  },
  "language_info": {
   "codemirror_mode": {
    "name": "ipython",
    "version": 3
   },
   "file_extension": ".py",
   "mimetype": "text/x-python",
   "name": "python",
   "nbconvert_exporter": "python",
   "pygments_lexer": "ipython3",
   "version": "3.13.5"
  }
 },
 "nbformat": 4,
 "nbformat_minor": 5
}
