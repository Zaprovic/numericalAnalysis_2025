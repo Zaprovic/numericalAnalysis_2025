{
 "cells": [
  {
   "cell_type": "markdown",
   "metadata": {},
   "source": [
    "# Inverse Kinematics of a 2R Planar Manipulator using Newton's Method (without damping)\n",
    "\n",
    "In this notebook we implement the **pure Newton method** to solve the **inverse kinematics** of a 2-degree-of-freedom planar manipulator (2R).\n",
    "\n",
    "---\n",
    "\n",
    "## 1. Forward Kinematics\n",
    "\n",
    "The position of the end-effector is given by:\n",
    "\n",
    "\n",
    "\\begin{aligned}\n",
    "x(\\theta) &= L_1\\cos\\theta_1 + L_2\\cos(\\theta_1+\\theta_2), \\\\\n",
    "y(\\theta) &= L_1\\sin\\theta_1 + L_2\\sin(\\theta_1+\\theta_2).\n",
    "\\end{aligned}\n",
    "\n",
    "\n",
    "where:\n",
    "- $L_1, L_2$ are the link lengths,\n",
    "- $\\theta_1, \\theta_2$ are the joint angles.\n",
    "\n",
    "---"
   ]
  },
  {
   "cell_type": "code",
   "execution_count": null,
   "metadata": {},
   "outputs": [],
   "source": [
    "import numpy as np\n",
    "import matplotlib.pyplot as plt\n",
    "from numpy.linalg import norm, solve, LinAlgError\n",
    "from dataclasses import dataclass"
   ]
  },
  {
   "cell_type": "markdown",
   "metadata": {},
   "source": [
    "## 2. Utility Functions\n",
    "\n",
    "We define functions for:\n",
    "- **forward_xy**: forward kinematics,\n",
    "- **residual**: nonlinear system $F(\\theta) = 0$,\n",
    "- **jacobian**: Jacobian $\\partial F/\\partial \\theta$,\n",
    "- **reachable**: workspace reachability condition,\n",
    "- **normalize_angles**: keep angles within $(- \\pi, \\pi]$."
   ]
  },
  {
   "cell_type": "code",
   "execution_count": null,
   "metadata": {},
   "outputs": [],
   "source": [
    "def forward_xy(theta, L1, L2):\n",
    "    t1, t2 = map(float, theta)\n",
    "    x = L1*np.cos(t1) + L2*np.cos(t1 + t2)\n",
    "    y = L1*np.sin(t1) + L2*np.sin(t1 + t2)\n",
    "    return np.array([x, y], dtype=float)\n",
    "\n",
    "def residual(theta, L1, L2, xd, yd):\n",
    "    return forward_xy(theta, L1, L2) - np.array([xd, yd], dtype=float)\n",
    "\n",
    "def jacobian(theta, L1, L2):\n",
    "    t1, t2 = map(float, theta)\n",
    "    s1, c1 = np.sin(t1), np.cos(t1)\n",
    "    s12, c12 = np.sin(t1 + t2), np.cos(t1 + t2)\n",
    "    return np.array([[-L1*s1 - L2*s12, -L2*s12],\n",
    "                     [ L1*c1 + L2*c12,  L2*c12]], dtype=float)\n",
    "\n",
    "def reachable(xd, yd, L1, L2):\n",
    "    r = np.hypot(xd, yd)\n",
    "    return abs(L1 - L2) <= r <= (L1 + L2)\n",
    "\n",
    "def normalize_angles(theta):\n",
    "    \"\"\"Normalize each angle to (-pi, pi].\"\"\"\n",
    "    th = np.array(theta, dtype=float)\n",
    "    return (th + np.pi) % (2*np.pi) - np.pi"
   ]
  },
  {
   "cell_type": "markdown",
   "metadata": {},
   "source": [
    "## 3. Pure Newton Method\n",
    "\n",
    "Newton's method solves:\n",
    "\n",
    "\\begin{equation*}\n",
    "J(\\theta_k) s_k = -F(\\theta_k), \\qquad \\theta_{k+1} = \\theta_k + s_k\n",
    "\\end{equation*}\n",
    "\n",
    "where:\n",
    "- $F(\\theta) = (x(\\theta)-x_d,\\; y(\\theta)-y_d)$,\n",
    "- $J(\\theta)$ is the Jacobian,\n",
    "- $s_k$ is the Newton step.\n",
    "\n",
    "Stopping criteria:\n",
    "\n",
    "\\begin{gather*}\n",
    "\\|F(\\theta_k)\\|_\\infty \\leq \\mathrm{tol}_f,\n",
    "\\\\\n",
    "\\|\\theta_{k+1}-\\theta_k\\|_\\infty \\leq \\mathrm{tol}_x\n",
    "\\end{gather*}\n"
   ]
  },
  {
   "cell_type": "code",
   "execution_count": null,
   "metadata": {},
   "outputs": [],
   "source": [
    "@dataclass\n",
    "class NewtonResult:\n",
    "    theta: np.ndarray\n",
    "    f_norm: float\n",
    "    iters: int\n",
    "    converged: bool\n",
    "    history: list\n",
    "\n",
    "def newton_ik(L1, L2, xd, yd, theta0,\n",
    "              tol_f=1e-10, tol_x=1e-12, kmax=50,\n",
    "              clamp_angles=True, verbose=False):\n",
    "    th = np.array(theta0, dtype=float)\n",
    "    hist = []\n",
    "\n",
    "    for k in range(kmax):\n",
    "        F = residual(th, L1, L2, xd, yd)\n",
    "        f_inf = norm(F, ord=np.inf)\n",
    "\n",
    "        # Newton step\n",
    "        J = jacobian(th, L1, L2)\n",
    "        try:\n",
    "            s = solve(J, -F)\n",
    "        except LinAlgError:\n",
    "            s = solve(J + 1e-10*np.eye(2), -F)\n",
    "\n",
    "        th_new = th + s\n",
    "        if clamp_angles:\n",
    "            th_new = normalize_angles(th_new)\n",
    "\n",
    "        hist.append({\"k\": k, \"theta\": th.copy(), \"f_inf\": f_inf,\n",
    "                     \"step_norm\": norm(s)})\n",
    "\n",
    "        if f_inf <= tol_f:\n",
    "            return NewtonResult(th, f_inf, k, True, hist)\n",
    "        if norm(th_new - th, ord=np.inf) <= tol_x:\n",
    "            th = th_new\n",
    "            F = residual(th, L1, L2, xd, yd)\n",
    "            return NewtonResult(th, norm(F, ord=np.inf), k+1, True, hist)\n",
    "\n",
    "        th = th_new\n",
    "\n",
    "    F = residual(th, L1, L2, xd, yd)\n",
    "    return NewtonResult(th, norm(F, ord=np.inf), kmax, False, hist)"
   ]
  },
  {
   "cell_type": "markdown",
   "metadata": {},
   "source": [
    "## 4. Grid Exploration\n",
    "\n",
    "To visualize the basins of attraction, we try many initial guesses $(\\theta_1, \\theta_2)$ in a uniform grid within $[- \\pi, \\pi]\\times[-\\pi, \\pi]$.\n",
    "\n",
    "Classification:\n",
    "- `0`: did not converge,\n",
    "- `1`: converged to solution with $\\theta_2 < 0$ (elbow-down),\n",
    "- `2`: converged to solution with $\\theta_2 \\geq 0$ (elbow-up)."
   ]
  },
  {
   "cell_type": "code",
   "execution_count": null,
   "metadata": {},
   "outputs": [],
   "source": [
    "def run_grid_analysis(L1, L2, xd, yd, n=50, kmax=40, tol_f=1e-8):\n",
    "    theta1_grid = np.linspace(-np.pi, np.pi, n)\n",
    "    theta2_grid = np.linspace(-np.pi, np.pi, n)\n",
    "\n",
    "    labels = np.zeros((n, n), dtype=int)\n",
    "    iters_map = np.full((n, n), np.nan)\n",
    "\n",
    "    for i, t1 in enumerate(theta1_grid):\n",
    "        for j, t2 in enumerate(theta2_grid):\n",
    "            res = newton_ik(L1, L2, xd, yd, theta0=np.array([t1, t2]),\n",
    "                            kmax=kmax, tol_f=tol_f)\n",
    "            if res.converged and res.f_norm <= tol_f:\n",
    "                labels[j, i] = 1 if res.theta[1] < 0 else 2\n",
    "                iters_map[j, i] = res.iters\n",
    "            else:\n",
    "                labels[j, i] = 0\n",
    "\n",
    "    return labels, iters_map, theta1_grid, theta2_grid"
   ]
  },
  {
   "cell_type": "markdown",
   "metadata": {},
   "source": [
    "## 5. Visualization\n",
    "We display:\n",
    "- **Basins of attraction**: which initial guess leads to which solution,\n",
    "- **Iteration map**: how many iterations are required for convergence."
   ]
  },
  {
   "cell_type": "code",
   "execution_count": null,
   "metadata": {},
   "outputs": [],
   "source": [
    "def plot_basins(labels, th1, th2, title):\n",
    "    plt.figure()\n",
    "    plt.imshow(labels, origin='lower',\n",
    "               extent=[th1[0], th1[-1], th2[0], th2[-1]],\n",
    "               aspect='auto')\n",
    "    plt.xlabel(r'$\\\\theta_1$ (rad)')\n",
    "    plt.ylabel(r'$\\\\theta_2$ (rad)')\n",
    "    plt.title(title)\n",
    "    plt.colorbar(label='0=no conv, 1=down, 2=up')\n",
    "    plt.show()\n",
    "\n",
    "def plot_iters_map(iters_map, th1, th2, title):\n",
    "    plt.figure()\n",
    "    plt.imshow(iters_map, origin='lower',\n",
    "               extent=[th1[0], th1[-1], th2[0], th2[-1]],\n",
    "               aspect='auto')\n",
    "    plt.xlabel(r'$\\\\theta_1$ (rad)')\n",
    "    plt.ylabel(r'$\\\\theta_2$ (rad)')\n",
    "    plt.title(title + \" (NaN = no conv)\")\n",
    "    plt.colorbar(label='# iters')\n",
    "    plt.show()"
   ]
  },
  {
   "cell_type": "markdown",
   "metadata": {},
   "source": [
    "## 6. Main Example\n",
    "We test with several targets inside the workspace."
   ]
  },
  {
   "cell_type": "code",
   "execution_count": null,
   "metadata": {},
   "outputs": [],
   "source": [
    "if __name__ == \"__main__\":\n",
    "    L1, L2 = 1.0, 0.8\n",
    "    targets = [(1.10, 0.60), (0.30, 1.40), (1.50, 0.10)]\n",
    "\n",
    "    for (xd, yd) in targets:\n",
    "        print(f\"\\n=== Analysis for target ({xd:.2f},{yd:.2f}) ===\")\n",
    "        if not reachable(xd, yd, L1, L2):\n",
    "            print(\"   -> Target not reachable.\")\n",
    "            continue\n",
    "\n",
    "        labels, iters_map, th1, th2 = run_grid_analysis(L1, L2, xd, yd, n=200)\n",
    "\n",
    "        plot_basins(labels, th1, th2, f\"Basins – target ({xd:.2f},{yd:.2f})\")\n",
    "        plot_iters_map(iters_map, th1, th2, f\"Iterations – target ({xd:.2f},{yd:.2f})\")"
   ]
  }
 ],
 "metadata": {
  "kernelspec": {
   "display_name": "Python 3",
   "language": "python",
   "name": "python3"
  },
  "language_info": {
   "name": "python",
   "version": "3.11"
  }
 },
 "nbformat": 4,
 "nbformat_minor": 2
}
