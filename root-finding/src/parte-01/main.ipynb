{
 "cells": [
  {
   "cell_type": "markdown",
   "id": "66f99a76",
   "metadata": {},
   "source": [
    "# **Cinematica inversa de un brazo robotico**"
   ]
  }
 ],
 "metadata": {
  "language_info": {
   "name": "python"
  }
 },
 "nbformat": 4,
 "nbformat_minor": 5
}
